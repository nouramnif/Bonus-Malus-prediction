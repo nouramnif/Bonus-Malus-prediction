{
 "cells": [
  {
   "cell_type": "code",
   "execution_count": 2,
   "metadata": {},
   "outputs": [],
   "source": [
    "import pyodbc\n",
    "import pandas as pd\n",
    "import numpy as np\n",
    "from datetime import datetime"
   ]
  },
  {
   "cell_type": "code",
   "execution_count": 3,
   "metadata": {},
   "outputs": [],
   "source": [
    "cnxn_str = (\"Driver={SQL Server Native Client 11.0};\"\n",
    "            \"Server=LAPTOP-CTTVUGH7;\"\n",
    "            \"Database=tables_fait_1;\"\n",
    "            \"Trusted_Connection=yes;\")\n",
    "\n",
    "cnxn = pyodbc.connect(cnxn_str)"
   ]
  },
  {
   "cell_type": "code",
   "execution_count": 4,
   "metadata": {},
   "outputs": [],
   "source": [
    "cursor = cnxn.cursor()"
   ]
  },
  {
   "cell_type": "code",
   "execution_count": 5,
   "metadata": {},
   "outputs": [],
   "source": [
    "import sqlalchemy\n",
    "engine = sqlalchemy.create_engine(\"mssql+pyodbc://LAPTOP-CTTVUGH7/tables_fait_1?driver=SQL Server?Trusted_Connection=yes\")\n",
    "conn = engine.connect()"
   ]
  },
  {
   "cell_type": "code",
   "execution_count": 6,
   "metadata": {},
   "outputs": [],
   "source": [
    "#improtation fait Sinistre\n",
    "fait_Sinistre = pd.read_sql(\"SELECT * FROM [fait_sinistre]\", cnxn)"
   ]
  },
  {
   "cell_type": "code",
   "execution_count": 7,
   "metadata": {},
   "outputs": [],
   "source": [
    "\n",
    "#etatVehicule is almost null\n",
    "#\"date ajout\" we already have \"data dinsertion\"\n",
    "#\"énumeroDuSinistreé\" inutile ona a sinistre ID\n",
    "#\"typeImmatriculationVehiculeAdverse\" we have \"numeroImmatriculationVehiculeAdverse \"\"\n",
    "#\"numPolice\" we \"id police\"\n",
    "\n",
    "fait_Sinistre = fait_Sinistre.drop(['index','identificationTiers',\n",
    "                                    'numeroDePoliceCompagnieAdverse','typeImmatriculationVehiculeAdverse'\n",
    "                                   ,'dateAjout','numPolice'], axis=1)"
   ]
  },
  {
   "cell_type": "code",
   "execution_count": 8,
   "metadata": {},
   "outputs": [],
   "source": [
    "fait_Sinistre = fait_Sinistre.drop(['numeroImmatriculationVehiculeAdverse','codeAgence'],axis=1)"
   ]
  },
  {
   "cell_type": "markdown",
   "metadata": {},
   "source": [
    "1)abnormal number of accidents"
   ]
  },
  {
   "cell_type": "code",
   "execution_count": 9,
   "metadata": {},
   "outputs": [],
   "source": [
    "condition = fait_Sinistre.groupby('CodeAssure_id').CodeAssure_id.transform('size') >=15"
   ]
  },
  {
   "cell_type": "code",
   "execution_count": 10,
   "metadata": {},
   "outputs": [],
   "source": [
    "\n",
    "fait_Sinistre.loc[condition, 'Fraud'] = 1"
   ]
  },
  {
   "cell_type": "code",
   "execution_count": 11,
   "metadata": {},
   "outputs": [
    {
     "data": {
      "text/plain": [
       "0    517797\n",
       "1     45005\n",
       "Name: Fraud, dtype: int64"
      ]
     },
     "execution_count": 11,
     "metadata": {},
     "output_type": "execute_result"
    }
   ],
   "source": [
    "#test des changements\n",
    "fait_Sinistre['Fraud'].value_counts()"
   ]
  },
  {
   "cell_type": "markdown",
   "metadata": {},
   "source": [
    "2) Detection de fraud selon nombre de clients qui ont type de police individuelle et ont plusieurs voitures (min 4)"
   ]
  },
  {
   "cell_type": "code",
   "execution_count": 12,
   "metadata": {},
   "outputs": [],
   "source": [
    "query = \"SELECT count(CodeVehicule_id) as count_CodeVehicule_id,CodeAssure_id FROM fait_Sinistre  where typePolice='I' group by CodeAssure_id having count(CodeVehicule_id)>3 \"\n",
    "results = cursor.execute(query).fetchall()"
   ]
  },
  {
   "cell_type": "code",
   "execution_count": 13,
   "metadata": {},
   "outputs": [
    {
     "data": {
      "text/html": [
       "<div>\n",
       "<style scoped>\n",
       "    .dataframe tbody tr th:only-of-type {\n",
       "        vertical-align: middle;\n",
       "    }\n",
       "\n",
       "    .dataframe tbody tr th {\n",
       "        vertical-align: top;\n",
       "    }\n",
       "\n",
       "    .dataframe thead th {\n",
       "        text-align: right;\n",
       "    }\n",
       "</style>\n",
       "<table border=\"1\" class=\"dataframe\">\n",
       "  <thead>\n",
       "    <tr style=\"text-align: right;\">\n",
       "      <th></th>\n",
       "      <th>count_CodeVehicule_id</th>\n",
       "      <th>CodeAssure_id</th>\n",
       "    </tr>\n",
       "  </thead>\n",
       "  <tbody>\n",
       "    <tr>\n",
       "      <th>0</th>\n",
       "      <td>5</td>\n",
       "      <td>396558.0</td>\n",
       "    </tr>\n",
       "    <tr>\n",
       "      <th>1</th>\n",
       "      <td>4</td>\n",
       "      <td>56927.0</td>\n",
       "    </tr>\n",
       "    <tr>\n",
       "      <th>2</th>\n",
       "      <td>9</td>\n",
       "      <td>275767.0</td>\n",
       "    </tr>\n",
       "    <tr>\n",
       "      <th>3</th>\n",
       "      <td>5</td>\n",
       "      <td>105025.0</td>\n",
       "    </tr>\n",
       "    <tr>\n",
       "      <th>4</th>\n",
       "      <td>19</td>\n",
       "      <td>1558480.0</td>\n",
       "    </tr>\n",
       "    <tr>\n",
       "      <th>...</th>\n",
       "      <td>...</td>\n",
       "      <td>...</td>\n",
       "    </tr>\n",
       "    <tr>\n",
       "      <th>5867</th>\n",
       "      <td>6</td>\n",
       "      <td>1563996.0</td>\n",
       "    </tr>\n",
       "    <tr>\n",
       "      <th>5868</th>\n",
       "      <td>4</td>\n",
       "      <td>1057722.0</td>\n",
       "    </tr>\n",
       "    <tr>\n",
       "      <th>5869</th>\n",
       "      <td>8</td>\n",
       "      <td>972929.0</td>\n",
       "    </tr>\n",
       "    <tr>\n",
       "      <th>5870</th>\n",
       "      <td>7</td>\n",
       "      <td>248932.0</td>\n",
       "    </tr>\n",
       "    <tr>\n",
       "      <th>5871</th>\n",
       "      <td>4</td>\n",
       "      <td>102906.0</td>\n",
       "    </tr>\n",
       "  </tbody>\n",
       "</table>\n",
       "<p>5872 rows × 2 columns</p>\n",
       "</div>"
      ],
      "text/plain": [
       "      count_CodeVehicule_id  CodeAssure_id\n",
       "0                         5       396558.0\n",
       "1                         4        56927.0\n",
       "2                         9       275767.0\n",
       "3                         5       105025.0\n",
       "4                        19      1558480.0\n",
       "...                     ...            ...\n",
       "5867                      6      1563996.0\n",
       "5868                      4      1057722.0\n",
       "5869                      8       972929.0\n",
       "5870                      7       248932.0\n",
       "5871                      4       102906.0\n",
       "\n",
       "[5872 rows x 2 columns]"
      ]
     },
     "execution_count": 13,
     "metadata": {},
     "output_type": "execute_result"
    }
   ],
   "source": [
    "dataframe = pd.read_sql(query, con = conn)\n",
    "dataframe"
   ]
  },
  {
   "cell_type": "code",
   "execution_count": 14,
   "metadata": {},
   "outputs": [],
   "source": [
    "condition=(fait_Sinistre[\"CodeAssure_id\"].isin(dataframe[\"CodeAssure_id\"]))\n",
    "fait_Sinistre.loc[condition,'Fraud']=1"
   ]
  },
  {
   "cell_type": "markdown",
   "metadata": {},
   "source": [
    "2) planned accidents"
   ]
  },
  {
   "cell_type": "code",
   "execution_count": 15,
   "metadata": {},
   "outputs": [],
   "source": [
    "\n",
    "query = \"\"\"SELECT count (numeroImmatriculationVehiculeAdverse) as count, CodeVehicule_id \n",
    "        from fait_sinistre group by CodeVehicule_id having count (numeroImmatriculationVehiculeAdverse) >3\"\"\"\n",
    "results = cursor.execute(query).fetchall()"
   ]
  },
  {
   "cell_type": "code",
   "execution_count": 16,
   "metadata": {},
   "outputs": [
    {
     "data": {
      "text/html": [
       "<div>\n",
       "<style scoped>\n",
       "    .dataframe tbody tr th:only-of-type {\n",
       "        vertical-align: middle;\n",
       "    }\n",
       "\n",
       "    .dataframe tbody tr th {\n",
       "        vertical-align: top;\n",
       "    }\n",
       "\n",
       "    .dataframe thead th {\n",
       "        text-align: right;\n",
       "    }\n",
       "</style>\n",
       "<table border=\"1\" class=\"dataframe\">\n",
       "  <thead>\n",
       "    <tr style=\"text-align: right;\">\n",
       "      <th></th>\n",
       "      <th>count</th>\n",
       "      <th>CodeVehicule_id</th>\n",
       "    </tr>\n",
       "  </thead>\n",
       "  <tbody>\n",
       "    <tr>\n",
       "      <th>0</th>\n",
       "      <td>6</td>\n",
       "      <td>1221580.0</td>\n",
       "    </tr>\n",
       "    <tr>\n",
       "      <th>1</th>\n",
       "      <td>4</td>\n",
       "      <td>53020.0</td>\n",
       "    </tr>\n",
       "    <tr>\n",
       "      <th>2</th>\n",
       "      <td>4</td>\n",
       "      <td>243191.0</td>\n",
       "    </tr>\n",
       "    <tr>\n",
       "      <th>3</th>\n",
       "      <td>4</td>\n",
       "      <td>847221.0</td>\n",
       "    </tr>\n",
       "    <tr>\n",
       "      <th>4</th>\n",
       "      <td>6</td>\n",
       "      <td>528686.0</td>\n",
       "    </tr>\n",
       "    <tr>\n",
       "      <th>...</th>\n",
       "      <td>...</td>\n",
       "      <td>...</td>\n",
       "    </tr>\n",
       "    <tr>\n",
       "      <th>1838</th>\n",
       "      <td>5</td>\n",
       "      <td>372301.0</td>\n",
       "    </tr>\n",
       "    <tr>\n",
       "      <th>1839</th>\n",
       "      <td>4</td>\n",
       "      <td>863147.0</td>\n",
       "    </tr>\n",
       "    <tr>\n",
       "      <th>1840</th>\n",
       "      <td>4</td>\n",
       "      <td>344568.0</td>\n",
       "    </tr>\n",
       "    <tr>\n",
       "      <th>1841</th>\n",
       "      <td>5</td>\n",
       "      <td>1394637.0</td>\n",
       "    </tr>\n",
       "    <tr>\n",
       "      <th>1842</th>\n",
       "      <td>5</td>\n",
       "      <td>1335589.0</td>\n",
       "    </tr>\n",
       "  </tbody>\n",
       "</table>\n",
       "<p>1843 rows × 2 columns</p>\n",
       "</div>"
      ],
      "text/plain": [
       "      count  CodeVehicule_id\n",
       "0         6        1221580.0\n",
       "1         4          53020.0\n",
       "2         4         243191.0\n",
       "3         4         847221.0\n",
       "4         6         528686.0\n",
       "...     ...              ...\n",
       "1838      5         372301.0\n",
       "1839      4         863147.0\n",
       "1840      4         344568.0\n",
       "1841      5        1394637.0\n",
       "1842      5        1335589.0\n",
       "\n",
       "[1843 rows x 2 columns]"
      ]
     },
     "execution_count": 16,
     "metadata": {},
     "output_type": "execute_result"
    }
   ],
   "source": [
    "dataframe = pd.read_sql(query, con = conn)\n",
    "dataframe"
   ]
  },
  {
   "cell_type": "code",
   "execution_count": 17,
   "metadata": {},
   "outputs": [],
   "source": [
    "condition=(fait_Sinistre[\"CodeVehicule_id\"].isin(dataframe[\"CodeVehicule_id\"]))\n",
    "fait_Sinistre.loc[condition,'Fraud']=2"
   ]
  },
  {
   "cell_type": "markdown",
   "metadata": {},
   "source": [
    "///Remplissage des valeurs manquantes:"
   ]
  },
  {
   "cell_type": "markdown",
   "metadata": {},
   "source": [
    "1)Type Police  (ajoutee I si le nombre de vehicule est inferieure a 4 sinon le type est F)"
   ]
  },
  {
   "cell_type": "code",
   "execution_count": 18,
   "metadata": {},
   "outputs": [],
   "source": [
    "query = \"\"\"\"SELECT count(CodeVehicule_id) as count_CodeVehicule_id,CodeAssure_id \n",
    "        FROM fait_Sinistre  where typePolice is NULL \n",
    "        group by CodeAssure_id having count(CodeVehicule_id)<4 \"\"\"\n",
    "results = cursor.execute(query).fetchall()"
   ]
  },
  {
   "cell_type": "code",
   "execution_count": 19,
   "metadata": {
    "collapsed": true
   },
   "outputs": [
    {
     "data": {
      "text/html": [
       "<div>\n",
       "<style scoped>\n",
       "    .dataframe tbody tr th:only-of-type {\n",
       "        vertical-align: middle;\n",
       "    }\n",
       "\n",
       "    .dataframe tbody tr th {\n",
       "        vertical-align: top;\n",
       "    }\n",
       "\n",
       "    .dataframe thead th {\n",
       "        text-align: right;\n",
       "    }\n",
       "</style>\n",
       "<table border=\"1\" class=\"dataframe\">\n",
       "  <thead>\n",
       "    <tr style=\"text-align: right;\">\n",
       "      <th></th>\n",
       "      <th>count_CodeVehicule_id</th>\n",
       "      <th>CodeAssure_id</th>\n",
       "    </tr>\n",
       "  </thead>\n",
       "  <tbody>\n",
       "    <tr>\n",
       "      <th>0</th>\n",
       "      <td>1</td>\n",
       "      <td>284449.0</td>\n",
       "    </tr>\n",
       "    <tr>\n",
       "      <th>1</th>\n",
       "      <td>1</td>\n",
       "      <td>1214865.0</td>\n",
       "    </tr>\n",
       "    <tr>\n",
       "      <th>2</th>\n",
       "      <td>1</td>\n",
       "      <td>1375267.0</td>\n",
       "    </tr>\n",
       "    <tr>\n",
       "      <th>3</th>\n",
       "      <td>1</td>\n",
       "      <td>882004.0</td>\n",
       "    </tr>\n",
       "    <tr>\n",
       "      <th>4</th>\n",
       "      <td>2</td>\n",
       "      <td>1346901.0</td>\n",
       "    </tr>\n",
       "    <tr>\n",
       "      <th>...</th>\n",
       "      <td>...</td>\n",
       "      <td>...</td>\n",
       "    </tr>\n",
       "    <tr>\n",
       "      <th>195612</th>\n",
       "      <td>1</td>\n",
       "      <td>1189094.0</td>\n",
       "    </tr>\n",
       "    <tr>\n",
       "      <th>195613</th>\n",
       "      <td>2</td>\n",
       "      <td>70373.0</td>\n",
       "    </tr>\n",
       "    <tr>\n",
       "      <th>195614</th>\n",
       "      <td>1</td>\n",
       "      <td>1096233.0</td>\n",
       "    </tr>\n",
       "    <tr>\n",
       "      <th>195615</th>\n",
       "      <td>1</td>\n",
       "      <td>1253262.0</td>\n",
       "    </tr>\n",
       "    <tr>\n",
       "      <th>195616</th>\n",
       "      <td>1</td>\n",
       "      <td>1329479.0</td>\n",
       "    </tr>\n",
       "  </tbody>\n",
       "</table>\n",
       "<p>195617 rows × 2 columns</p>\n",
       "</div>"
      ],
      "text/plain": [
       "        count_CodeVehicule_id  CodeAssure_id\n",
       "0                           1       284449.0\n",
       "1                           1      1214865.0\n",
       "2                           1      1375267.0\n",
       "3                           1       882004.0\n",
       "4                           2      1346901.0\n",
       "...                       ...            ...\n",
       "195612                      1      1189094.0\n",
       "195613                      2        70373.0\n",
       "195614                      1      1096233.0\n",
       "195615                      1      1253262.0\n",
       "195616                      1      1329479.0\n",
       "\n",
       "[195617 rows x 2 columns]"
      ]
     },
     "execution_count": 19,
     "metadata": {},
     "output_type": "execute_result"
    }
   ],
   "source": [
    "dataframe = pd.read_sql(query, con = conn)\n",
    "dataframe"
   ]
  },
  {
   "cell_type": "code",
   "execution_count": 20,
   "metadata": {},
   "outputs": [],
   "source": [
    "condition=(fait_Sinistre[\"CodeAssure_id\"].isin(dataframe[\"CodeAssure_id\"]))\n",
    "fait_Sinistre.loc[condition,'typePolice']='I'"
   ]
  },
  {
   "cell_type": "code",
   "execution_count": 21,
   "metadata": {},
   "outputs": [
    {
     "data": {
      "text/plain": [
       "83749"
      ]
     },
     "execution_count": 21,
     "metadata": {},
     "output_type": "execute_result"
    }
   ],
   "source": [
    "fait_Sinistre['typePolice'].isnull().sum()"
   ]
  },
  {
   "cell_type": "code",
   "execution_count": 22,
   "metadata": {},
   "outputs": [],
   "source": [
    "query =\"\"\" \"SELECT count(CodeVehicule_id) as count_CodeVehicule_id,CodeAssure_id\n",
    "        FROM fait_Sinistre  where typePolice is NULL\n",
    "        group by CodeAssure_id having count(CodeVehicule_id)>=4 \"\"\"\"\n",
    "results = cursor.execute(query).fetchall()"
   ]
  },
  {
   "cell_type": "code",
   "execution_count": 23,
   "metadata": {
    "collapsed": true
   },
   "outputs": [
    {
     "data": {
      "text/html": [
       "<div>\n",
       "<style scoped>\n",
       "    .dataframe tbody tr th:only-of-type {\n",
       "        vertical-align: middle;\n",
       "    }\n",
       "\n",
       "    .dataframe tbody tr th {\n",
       "        vertical-align: top;\n",
       "    }\n",
       "\n",
       "    .dataframe thead th {\n",
       "        text-align: right;\n",
       "    }\n",
       "</style>\n",
       "<table border=\"1\" class=\"dataframe\">\n",
       "  <thead>\n",
       "    <tr style=\"text-align: right;\">\n",
       "      <th></th>\n",
       "      <th>count_CodeVehicule_id</th>\n",
       "      <th>CodeAssure_id</th>\n",
       "    </tr>\n",
       "  </thead>\n",
       "  <tbody>\n",
       "    <tr>\n",
       "      <th>0</th>\n",
       "      <td>4</td>\n",
       "      <td>583802.0</td>\n",
       "    </tr>\n",
       "    <tr>\n",
       "      <th>1</th>\n",
       "      <td>4</td>\n",
       "      <td>51749.0</td>\n",
       "    </tr>\n",
       "    <tr>\n",
       "      <th>2</th>\n",
       "      <td>4</td>\n",
       "      <td>1271948.0</td>\n",
       "    </tr>\n",
       "    <tr>\n",
       "      <th>3</th>\n",
       "      <td>4</td>\n",
       "      <td>579552.0</td>\n",
       "    </tr>\n",
       "    <tr>\n",
       "      <th>4</th>\n",
       "      <td>5</td>\n",
       "      <td>1094979.0</td>\n",
       "    </tr>\n",
       "    <tr>\n",
       "      <th>...</th>\n",
       "      <td>...</td>\n",
       "      <td>...</td>\n",
       "    </tr>\n",
       "    <tr>\n",
       "      <th>10312</th>\n",
       "      <td>11</td>\n",
       "      <td>1079099.0</td>\n",
       "    </tr>\n",
       "    <tr>\n",
       "      <th>10313</th>\n",
       "      <td>4</td>\n",
       "      <td>1345261.0</td>\n",
       "    </tr>\n",
       "    <tr>\n",
       "      <th>10314</th>\n",
       "      <td>5</td>\n",
       "      <td>636744.0</td>\n",
       "    </tr>\n",
       "    <tr>\n",
       "      <th>10315</th>\n",
       "      <td>8</td>\n",
       "      <td>1267330.0</td>\n",
       "    </tr>\n",
       "    <tr>\n",
       "      <th>10316</th>\n",
       "      <td>6</td>\n",
       "      <td>1390653.0</td>\n",
       "    </tr>\n",
       "  </tbody>\n",
       "</table>\n",
       "<p>10317 rows × 2 columns</p>\n",
       "</div>"
      ],
      "text/plain": [
       "       count_CodeVehicule_id  CodeAssure_id\n",
       "0                          4       583802.0\n",
       "1                          4        51749.0\n",
       "2                          4      1271948.0\n",
       "3                          4       579552.0\n",
       "4                          5      1094979.0\n",
       "...                      ...            ...\n",
       "10312                     11      1079099.0\n",
       "10313                      4      1345261.0\n",
       "10314                      5       636744.0\n",
       "10315                      8      1267330.0\n",
       "10316                      6      1390653.0\n",
       "\n",
       "[10317 rows x 2 columns]"
      ]
     },
     "execution_count": 23,
     "metadata": {},
     "output_type": "execute_result"
    }
   ],
   "source": [
    "dataframe = pd.read_sql(query, con = conn)\n",
    "dataframe"
   ]
  },
  {
   "cell_type": "code",
   "execution_count": 24,
   "metadata": {},
   "outputs": [],
   "source": [
    "condition=(fait_Sinistre[\"CodeAssure_id\"].isin(dataframe[\"CodeAssure_id\"]))\n",
    "fait_Sinistre.loc[condition,'typePolice']='F'"
   ]
  },
  {
   "cell_type": "code",
   "execution_count": 25,
   "metadata": {},
   "outputs": [
    {
     "data": {
      "text/plain": [
       "0"
      ]
     },
     "execution_count": 25,
     "metadata": {},
     "output_type": "execute_result"
    }
   ],
   "source": [
    "fait_Sinistre['typePolice'].isnull().sum()"
   ]
  },
  {
   "cell_type": "markdown",
   "metadata": {},
   "source": [
    "2) Lieu du sinistre"
   ]
  },
  {
   "cell_type": "code",
   "execution_count": 26,
   "metadata": {},
   "outputs": [],
   "source": [
    "fait_Sinistre['lieuDuSinistre']=fait_Sinistre['lieuDuSinistre'].str.upper()\n",
    "fait_Sinistre['lieuDuSinistre']=fait_Sinistre['lieuDuSinistre'].fillna(\"unkown\")"
   ]
  },
  {
   "cell_type": "markdown",
   "metadata": {},
   "source": [
    "3 ) dateOuvertureDuSinistre"
   ]
  },
  {
   "cell_type": "code",
   "execution_count": 27,
   "metadata": {},
   "outputs": [
    {
     "data": {
      "text/plain": [
       "562802"
      ]
     },
     "execution_count": 27,
     "metadata": {},
     "output_type": "execute_result"
    }
   ],
   "source": [
    "fait_Sinistre['dateOuvertureDuSinistre'].value_counts().sum()"
   ]
  },
  {
   "cell_type": "code",
   "execution_count": 28,
   "metadata": {},
   "outputs": [],
   "source": [
    "fait_Sinistre['dateOuvertureDuSinistre']= fait_Sinistre['dateOuvertureDuSinistre'].astype('datetime64[ns]')"
   ]
  },
  {
   "cell_type": "markdown",
   "metadata": {},
   "source": [
    "6) Code compagnie (les valeurs les plus utulises sont 1 12 et 9 donc on va remplir les donnees avec ces variables)"
   ]
  },
  {
   "cell_type": "code",
   "execution_count": 29,
   "metadata": {},
   "outputs": [
    {
     "data": {
      "text/plain": [
       "1.0     60861\n",
       "12.0    37337\n",
       "9.0     37055\n",
       "2.0     24171\n",
       "6.0     19278\n",
       "7.0     14785\n",
       "4.0      8228\n",
       "15.0     5908\n",
       "5.0      4238\n",
       "8.0      4197\n",
       "3.0      1784\n",
       "14.0     1270\n",
       "11.0      753\n",
       "10.0      148\n",
       "13.0       30\n",
       "Name: codeCompagnie, dtype: int64"
      ]
     },
     "execution_count": 29,
     "metadata": {},
     "output_type": "execute_result"
    }
   ],
   "source": [
    "fait_Sinistre['codeCompagnie'].value_counts()"
   ]
  },
  {
   "cell_type": "code",
   "execution_count": 30,
   "metadata": {},
   "outputs": [
    {
     "data": {
      "text/plain": [
       "dtype('int64')"
      ]
     },
     "execution_count": 30,
     "metadata": {},
     "output_type": "execute_result"
    }
   ],
   "source": [
    "fill=[1,12,9]\n",
    "x = np.array([[1],[12],[9]])\n",
    "x=np.repeat(x, 114253)\n",
    "fait_Sinistre.loc[fait_Sinistre[\"codeCompagnie\"].isnull(), \"codeCompagnie\"] = x\n",
    "fait_Sinistre[\"codeCompagnie\"] = fait_Sinistre[\"codeCompagnie\"].astype(\"int64\") \n",
    "fait_Sinistre[\"codeCompagnie\"].dtype"
   ]
  },
  {
   "cell_type": "code",
   "execution_count": 31,
   "metadata": {},
   "outputs": [
    {
     "data": {
      "text/plain": [
       "1.0     150221\n",
       "14.0    148783\n",
       "11.0     86438\n",
       "6.0      58460\n",
       "9.0      17576\n",
       "2.0      14692\n",
       "12.0     14323\n",
       "0.0      12803\n",
       "10.0     12399\n",
       "7.0       9702\n",
       "5.0       8689\n",
       "4.0       5835\n",
       "15.0      5306\n",
       "13.0      5012\n",
       "8.0       4127\n",
       "99.0      3592\n",
       "3.0       3547\n",
       "16.0       483\n",
       "18.0       389\n",
       "20.0       244\n",
       "19.0       170\n",
       "17.0        11\n",
       "Name: codeCompagnieAdverse, dtype: int64"
      ]
     },
     "execution_count": 31,
     "metadata": {},
     "output_type": "execute_result"
    }
   ],
   "source": [
    "fait_Sinistre[\"codeCompagnieAdverse\"]=fait_Sinistre[\"codeCompagnieAdverse\"].fillna(1, limit=100000)\n",
    "fait_Sinistre[\"codeCompagnieAdverse\"]=fait_Sinistre[\"codeCompagnieAdverse\"].fillna(14, limit=100000)\n",
    "fait_Sinistre[\"codeCompagnieAdverse\"]=fait_Sinistre[\"codeCompagnieAdverse\"].fillna(11, limit=60000)\n",
    "fait_Sinistre[\"codeCompagnieAdverse\"]=fait_Sinistre[\"codeCompagnieAdverse\"].fillna(6)\n",
    "fait_Sinistre[\"codeCompagnieAdverse\"].value_counts()"
   ]
  },
  {
   "cell_type": "code",
   "execution_count": 32,
   "metadata": {},
   "outputs": [
    {
     "data": {
      "text/plain": [
       "dtype('int64')"
      ]
     },
     "execution_count": 32,
     "metadata": {},
     "output_type": "execute_result"
    }
   ],
   "source": [
    "fait_Sinistre[\"codeCompagnieAdverse\"] = fait_Sinistre[\"codeCompagnieAdverse\"].astype(\"int64\") \n",
    "fait_Sinistre[\"codeCompagnieAdverse\"].dtype"
   ]
  },
  {
   "cell_type": "markdown",
   "metadata": {},
   "source": [
    "7)Pourcentage compagnie adverse"
   ]
  },
  {
   "cell_type": "code",
   "execution_count": 33,
   "metadata": {},
   "outputs": [
    {
     "data": {
      "text/plain": [
       "dtype('int64')"
      ]
     },
     "execution_count": 33,
     "metadata": {},
     "output_type": "execute_result"
    }
   ],
   "source": [
    "fait_Sinistre[\"porcentageCompagnieAdverse\"]=fait_Sinistre[\"porcentageCompagnieAdverse\"].fillna(0)\n",
    "fait_Sinistre[\"porcentageCompagnieAdverse\"] = fait_Sinistre[\"porcentageCompagnieAdverse\"].astype(\"int64\") \n",
    "fait_Sinistre[\"porcentageCompagnieAdverse\"].dtype"
   ]
  },
  {
   "cell_type": "markdown",
   "metadata": {},
   "source": [
    "8)Etat police"
   ]
  },
  {
   "cell_type": "code",
   "execution_count": 34,
   "metadata": {},
   "outputs": [
    {
     "data": {
      "text/plain": [
       "V    203275\n",
       "R     16317\n",
       "S       451\n",
       "Name: Etat_Police, dtype: int64"
      ]
     },
     "execution_count": 34,
     "metadata": {},
     "output_type": "execute_result"
    }
   ],
   "source": [
    "fait_Sinistre[\"Etat_Police\"].value_counts()"
   ]
  },
  {
   "cell_type": "code",
   "execution_count": 35,
   "metadata": {},
   "outputs": [
    {
     "data": {
      "text/plain": [
       "342759"
      ]
     },
     "execution_count": 35,
     "metadata": {},
     "output_type": "execute_result"
    }
   ],
   "source": [
    "fait_Sinistre[\"Etat_Police\"].isnull().sum()"
   ]
  },
  {
   "cell_type": "code",
   "execution_count": 36,
   "metadata": {},
   "outputs": [],
   "source": [
    "fait_Sinistre[\"Etat_Police\"]=fait_Sinistre[\"Etat_Police\"].fillna(\"V\",limit=290000)"
   ]
  },
  {
   "cell_type": "code",
   "execution_count": 37,
   "metadata": {},
   "outputs": [
    {
     "data": {
      "text/plain": [
       "52759"
      ]
     },
     "execution_count": 37,
     "metadata": {},
     "output_type": "execute_result"
    }
   ],
   "source": [
    "fait_Sinistre[\"Etat_Police\"].isnull().sum()"
   ]
  },
  {
   "cell_type": "code",
   "execution_count": 38,
   "metadata": {},
   "outputs": [],
   "source": [
    "fait_Sinistre[\"Etat_Police\"]=fait_Sinistre[\"Etat_Police\"].fillna(\"R\",limit=52000)"
   ]
  },
  {
   "cell_type": "code",
   "execution_count": 39,
   "metadata": {},
   "outputs": [],
   "source": [
    "fait_Sinistre[\"Etat_Police\"]=fait_Sinistre[\"Etat_Police\"].fillna(\"S\")"
   ]
  },
  {
   "cell_type": "code",
   "execution_count": 40,
   "metadata": {},
   "outputs": [
    {
     "data": {
      "text/plain": [
       "0"
      ]
     },
     "execution_count": 40,
     "metadata": {},
     "output_type": "execute_result"
    }
   ],
   "source": [
    "fait_Sinistre[\"Etat_Police\"].isnull().sum()"
   ]
  },
  {
   "cell_type": "markdown",
   "metadata": {},
   "source": [
    "9)Nature police"
   ]
  },
  {
   "cell_type": "code",
   "execution_count": 41,
   "metadata": {},
   "outputs": [
    {
     "data": {
      "text/plain": [
       "342759"
      ]
     },
     "execution_count": 41,
     "metadata": {},
     "output_type": "execute_result"
    }
   ],
   "source": [
    "fait_Sinistre[\"naturePolice\"].isnull().sum()"
   ]
  },
  {
   "cell_type": "code",
   "execution_count": 42,
   "metadata": {},
   "outputs": [
    {
     "data": {
      "text/plain": [
       "R    214446\n",
       "T      5597\n",
       "Name: naturePolice, dtype: int64"
      ]
     },
     "execution_count": 42,
     "metadata": {},
     "output_type": "execute_result"
    }
   ],
   "source": [
    "fait_Sinistre[\"naturePolice\"].value_counts()"
   ]
  },
  {
   "cell_type": "code",
   "execution_count": 43,
   "metadata": {},
   "outputs": [],
   "source": [
    "fait_Sinistre[\"naturePolice\"]=fait_Sinistre[\"naturePolice\"].fillna(\"T\",limit=9000)\n"
   ]
  },
  {
   "cell_type": "code",
   "execution_count": 44,
   "metadata": {},
   "outputs": [],
   "source": [
    "fait_Sinistre[\"naturePolice\"]=fait_Sinistre[\"naturePolice\"].fillna(\"R\")\n"
   ]
  },
  {
   "cell_type": "markdown",
   "metadata": {},
   "source": [
    "10)Type intermediaire"
   ]
  },
  {
   "cell_type": "code",
   "execution_count": 45,
   "metadata": {},
   "outputs": [
    {
     "data": {
      "text/plain": [
       "1.0    161858\n",
       "2.0     39483\n",
       "3.0     18702\n",
       "Name: typeIntermediaire, dtype: int64"
      ]
     },
     "execution_count": 45,
     "metadata": {},
     "output_type": "execute_result"
    }
   ],
   "source": [
    "fait_Sinistre[\"typeIntermediaire\"].value_counts()"
   ]
  },
  {
   "cell_type": "code",
   "execution_count": 46,
   "metadata": {},
   "outputs": [
    {
     "data": {
      "text/plain": [
       "342759"
      ]
     },
     "execution_count": 46,
     "metadata": {},
     "output_type": "execute_result"
    }
   ],
   "source": [
    "fait_Sinistre[\"typeIntermediaire\"].isnull().sum()"
   ]
  },
  {
   "cell_type": "code",
   "execution_count": 47,
   "metadata": {},
   "outputs": [
    {
     "name": "stderr",
     "output_type": "stream",
     "text": [
      "C:\\Users\\Rayen\\anaconda3\\lib\\site-packages\\seaborn\\_decorators.py:36: FutureWarning: Pass the following variables as keyword args: x, y. From version 0.12, the only valid positional argument will be `data`, and passing other arguments without an explicit keyword will result in an error or misinterpretation.\n",
      "  warnings.warn(\n"
     ]
    },
    {
     "data": {
      "text/plain": [
       "<AxesSubplot:>"
      ]
     },
     "execution_count": 47,
     "metadata": {},
     "output_type": "execute_result"
    },
    {
     "data": {
      "image/png": "[encoded data removed]",
      "text/plain": [
       "<Figure size 432x288 with 1 Axes>"
      ]
     },
     "metadata": {
      "needs_background": "light"
     },
     "output_type": "display_data"
    }
   ],
   "source": [
    "import seaborn as sns\n",
    "y = fait_Sinistre[\"typeIntermediaire\"].value_counts()\n",
    "sns.barplot(y.index, y.values)"
   ]
  },
  {
   "cell_type": "code",
   "execution_count": 48,
   "metadata": {},
   "outputs": [],
   "source": [
    "fait_Sinistre[\"typeIntermediaire\"]=fait_Sinistre[\"typeIntermediaire\"].fillna(1,limit=250000)"
   ]
  },
  {
   "cell_type": "code",
   "execution_count": 49,
   "metadata": {},
   "outputs": [],
   "source": [
    "fait_Sinistre[\"typeIntermediaire\"]=fait_Sinistre[\"typeIntermediaire\"].fillna(2,limit=65000)"
   ]
  },
  {
   "cell_type": "code",
   "execution_count": 50,
   "metadata": {},
   "outputs": [],
   "source": [
    "fait_Sinistre[\"typeIntermediaire\"]=fait_Sinistre[\"typeIntermediaire\"].fillna(3)"
   ]
  },
  {
   "cell_type": "code",
   "execution_count": 51,
   "metadata": {},
   "outputs": [
    {
     "data": {
      "text/plain": [
       "1.0    411858\n",
       "2.0    104483\n",
       "3.0     46461\n",
       "Name: typeIntermediaire, dtype: int64"
      ]
     },
     "execution_count": 51,
     "metadata": {},
     "output_type": "execute_result"
    }
   ],
   "source": [
    "fait_Sinistre[\"typeIntermediaire\"].value_counts()"
   ]
  },
  {
   "cell_type": "code",
   "execution_count": 52,
   "metadata": {},
   "outputs": [
    {
     "data": {
      "text/plain": [
       "dtype('int64')"
      ]
     },
     "execution_count": 52,
     "metadata": {},
     "output_type": "execute_result"
    }
   ],
   "source": [
    "fait_Sinistre[\"typeIntermediaire\"] = fait_Sinistre[\"typeIntermediaire\"].astype(\"int64\") \n",
    "fait_Sinistre[\"typeIntermediaire\"].dtype"
   ]
  },
  {
   "cell_type": "markdown",
   "metadata": {},
   "source": [
    "11)Type immatriculation"
   ]
  },
  {
   "cell_type": "code",
   "execution_count": 53,
   "metadata": {},
   "outputs": [
    {
     "data": {
      "text/plain": [
       "TU      426152\n",
       "RS        9872\n",
       "REM        764\n",
       "ES         728\n",
       "TRAC       518\n",
       "MD         145\n",
       "CD         108\n",
       "PAT         37\n",
       "-           11\n",
       "CMD          7\n",
       "CC           2\n",
       "Name: typeImmatriculation, dtype: int64"
      ]
     },
     "execution_count": 53,
     "metadata": {},
     "output_type": "execute_result"
    }
   ],
   "source": [
    "fait_Sinistre[\"typeImmatriculation\"].value_counts()"
   ]
  },
  {
   "cell_type": "code",
   "execution_count": 54,
   "metadata": {},
   "outputs": [],
   "source": [
    "fait_Sinistre[\"typeImmatriculation\"]=fait_Sinistre[\"typeImmatriculation\"].fillna('TU')"
   ]
  },
  {
   "cell_type": "code",
   "execution_count": 55,
   "metadata": {},
   "outputs": [
    {
     "data": {
      "text/plain": [
       "TU      550610\n",
       "RS        9872\n",
       "REM        764\n",
       "ES         728\n",
       "TRAC       518\n",
       "MD         145\n",
       "CD         108\n",
       "PAT         37\n",
       "-           11\n",
       "CMD          7\n",
       "CC           2\n",
       "Name: typeImmatriculation, dtype: int64"
      ]
     },
     "execution_count": 55,
     "metadata": {},
     "output_type": "execute_result"
    }
   ],
   "source": [
    "fait_Sinistre[\"typeImmatriculation\"].value_counts()"
   ]
  },
  {
   "cell_type": "markdown",
   "metadata": {},
   "source": [
    "12)Mouvement Du sinistre"
   ]
  },
  {
   "cell_type": "code",
   "execution_count": 56,
   "metadata": {},
   "outputs": [
    {
     "data": {
      "text/plain": [
       "22353"
      ]
     },
     "execution_count": 56,
     "metadata": {},
     "output_type": "execute_result"
    }
   ],
   "source": [
    "fait_Sinistre[\"mouvementDusinistre\"].isnull().sum()"
   ]
  },
  {
   "cell_type": "code",
   "execution_count": 57,
   "metadata": {},
   "outputs": [
    {
     "data": {
      "text/plain": [
       "3.0    418372\n",
       "2.0    103655\n",
       "1.0     18422\n",
       "Name: mouvementDusinistre, dtype: int64"
      ]
     },
     "execution_count": 57,
     "metadata": {},
     "output_type": "execute_result"
    }
   ],
   "source": [
    "fait_Sinistre[\"mouvementDusinistre\"].value_counts()"
   ]
  },
  {
   "cell_type": "code",
   "execution_count": 58,
   "metadata": {},
   "outputs": [],
   "source": [
    "fait_Sinistre[\"mouvementDusinistre\"]=fait_Sinistre[\"mouvementDusinistre\"].fillna('3')"
   ]
  },
  {
   "cell_type": "code",
   "execution_count": 59,
   "metadata": {},
   "outputs": [
    {
     "data": {
      "text/plain": [
       "dtype('int64')"
      ]
     },
     "execution_count": 59,
     "metadata": {},
     "output_type": "execute_result"
    }
   ],
   "source": [
    "fait_Sinistre[\"mouvementDusinistre\"] = fait_Sinistre[\"mouvementDusinistre\"].astype(\"int64\") \n",
    "fait_Sinistre[\"mouvementDusinistre\"].dtype"
   ]
  },
  {
   "cell_type": "code",
   "execution_count": null,
   "metadata": {},
   "outputs": [],
   "source": []
  },
  {
   "cell_type": "code",
   "execution_count": 60,
   "metadata": {},
   "outputs": [],
   "source": [
    "import sqlalchemy\n",
    "engine = sqlalchemy.create_engine(\"mssql+pyodbc://LAPTOP-CTTVUGH7/tables_fait_1?driver=SQL Server?Trusted_Connection=yes\")\n",
    "conn = engine.connect()"
   ]
  },
  {
   "cell_type": "code",
   "execution_count": 61,
   "metadata": {},
   "outputs": [],
   "source": [
    "fait_Sinistre.to_sql('fait_Sinistre_fraud', conn, if_exists='replace')"
   ]
  }
 ],
 "metadata": {
  "kernelspec": {
   "display_name": "Python 3",
   "language": "python",
   "name": "python3"
  },
  "language_info": {
   "codemirror_mode": {
    "name": "ipython",
    "version": 3
   },
   "file_extension": ".py",
   "mimetype": "text/x-python",
   "name": "python",
   "nbconvert_exporter": "python",
   "pygments_lexer": "ipython3",
   "version": "3.8.5"
  }
 },
 "nbformat": 4,
 "nbformat_minor": 4
}
